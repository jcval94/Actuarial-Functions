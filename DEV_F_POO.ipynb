{
  "nbformat": 4,
  "nbformat_minor": 0,
  "metadata": {
    "colab": {
      "name": "DEV.F-POO.ipynb",
      "provenance": [],
      "collapsed_sections": [],
      "authorship_tag": "ABX9TyPHIQqfSkmsiILj2YKgum2z",
      "include_colab_link": true
    },
    "kernelspec": {
      "name": "python3",
      "display_name": "Python 3"
    },
    "language_info": {
      "name": "python"
    }
  },
  "cells": [
    {
      "cell_type": "markdown",
      "metadata": {
        "id": "view-in-github",
        "colab_type": "text"
      },
      "source": [
        "<a href=\"https://colab.research.google.com/github/jcval94/Actuarial-Functions/blob/master/DEV_F_POO.ipynb\" target=\"_parent\"><img src=\"https://colab.research.google.com/assets/colab-badge.svg\" alt=\"Open In Colab\"/></a>"
      ]
    },
    {
      "cell_type": "code",
      "execution_count": 3,
      "metadata": {
        "id": "mbgLMDIQdMJI"
      },
      "outputs": [],
      "source": [
        "lista = [1,2,3,4,5]"
      ]
    },
    {
      "cell_type": "code",
      "source": [
        "type('')"
      ],
      "metadata": {
        "colab": {
          "base_uri": "https://localhost:8080/"
        },
        "id": "5TavjVqzeXIX",
        "outputId": "632fe623-1ec9-491d-a537-dcd75951eb66"
      },
      "execution_count": 6,
      "outputs": [
        {
          "output_type": "execute_result",
          "data": {
            "text/plain": [
              "str"
            ]
          },
          "metadata": {},
          "execution_count": 6
        }
      ]
    },
    {
      "cell_type": "code",
      "source": [
        "lista.reverse()"
      ],
      "metadata": {
        "id": "2PoNTsRZlwMd"
      },
      "execution_count": 27,
      "outputs": []
    },
    {
      "cell_type": "code",
      "source": [
        "pop = lista.pop(1)"
      ],
      "metadata": {
        "id": "q5kog1Pol0dT"
      },
      "execution_count": 29,
      "outputs": []
    },
    {
      "cell_type": "code",
      "source": [
        "pop"
      ],
      "metadata": {
        "colab": {
          "base_uri": "https://localhost:8080/"
        },
        "id": "1GyFKWt1l5vM",
        "outputId": "40f436b7-e676-4df3-f503-9f18a7e9b35c"
      },
      "execution_count": 30,
      "outputs": [
        {
          "output_type": "execute_result",
          "data": {
            "text/plain": [
              "4"
            ]
          },
          "metadata": {},
          "execution_count": 30
        }
      ]
    },
    {
      "cell_type": "code",
      "source": [
        "lista.append(2134)"
      ],
      "metadata": {
        "id": "Wss8CX3cl7qq"
      },
      "execution_count": 32,
      "outputs": []
    },
    {
      "cell_type": "code",
      "source": [
        "lista."
      ],
      "metadata": {
        "colab": {
          "base_uri": "https://localhost:8080/"
        },
        "id": "rT2f9Ch1mAul",
        "outputId": "11f239b1-6231-4d4f-a731-0c3145251fdd"
      },
      "execution_count": 33,
      "outputs": [
        {
          "output_type": "execute_result",
          "data": {
            "text/plain": [
              "[5, 3, 2, 1, 2134]"
            ]
          },
          "metadata": {},
          "execution_count": 33
        }
      ]
    },
    {
      "cell_type": "code",
      "source": [
        "class GameCharacter:\n",
        "  pass"
      ],
      "metadata": {
        "id": "9WKi1vJxesBV"
      },
      "execution_count": 7,
      "outputs": []
    },
    {
      "cell_type": "code",
      "source": [
        "geralt = GameCharacter()"
      ],
      "metadata": {
        "id": "kF9-DFl4e3Lg"
      },
      "execution_count": 8,
      "outputs": []
    },
    {
      "cell_type": "code",
      "source": [
        "class GameCharacter:\n",
        "    \n",
        "    # __slots__ = ('name', 'hair_color', 'height')\n",
        "    # Frist define class attributes (properties)\n",
        "    weight = 90 \n",
        "    hair_color = 'Grey'\n",
        "    height = 180\n",
        "    name = 'Vesimir'\n",
        "    \n",
        "    # Define a method (function) for printing characters' names\n",
        "    def say(self):\n",
        "        print(f'Hello, My Name is {self.name}')\n",
        "        return self.name\n",
        "\n",
        "# Object Creation\n",
        "vesimir = GameCharacter()"
      ],
      "metadata": {
        "id": "9kWKnOLie8qx"
      },
      "execution_count": 40,
      "outputs": []
    },
    {
      "cell_type": "code",
      "source": [
        "print(\"Vesimir's Name: \" , vesimir.name)\n",
        "print(\"Vesimir's Hair Color: \", vesimir.hair_color )"
      ],
      "metadata": {
        "colab": {
          "base_uri": "https://localhost:8080/"
        },
        "id": "xViAJax8fsyc",
        "outputId": "22d0cc85-c3bc-4f5b-9006-4b756884c596"
      },
      "execution_count": 11,
      "outputs": [
        {
          "output_type": "stream",
          "name": "stdout",
          "text": [
            "Vesimir's Name:  Vesimir\n",
            "Vesimir's Hair Color:  Grey\n"
          ]
        }
      ]
    },
    {
      "cell_type": "code",
      "source": [
        "print(\"Vesimir is Saying: \", vesimir.say())"
      ],
      "metadata": {
        "colab": {
          "base_uri": "https://localhost:8080/"
        },
        "id": "Axn3AEW6f5b7",
        "outputId": "19f732e3-7a4e-4d2f-ccb9-00eff00d200b"
      },
      "execution_count": 26,
      "outputs": [
        {
          "output_type": "stream",
          "name": "stdout",
          "text": [
            "Hello, My Name is Vesimir\n",
            "Vesimir is Saying:  Vesimir\n"
          ]
        }
      ]
    },
    {
      "cell_type": "code",
      "source": [
        "None"
      ],
      "metadata": {
        "id": "Q9DaxZO9gOUF"
      },
      "execution_count": 18,
      "outputs": []
    },
    {
      "cell_type": "code",
      "source": [
        "def say(name):\n",
        "  print(f'Hello, My Name is {name}')\n",
        "  return "
      ],
      "metadata": {
        "id": "HYo8aOHUgW1A"
      },
      "execution_count": 20,
      "outputs": []
    },
    {
      "cell_type": "code",
      "source": [
        "nombre = say('JC')"
      ],
      "metadata": {
        "colab": {
          "base_uri": "https://localhost:8080/"
        },
        "id": "bH8KwOzBgYmd",
        "outputId": "602283ac-c9af-411d-c34a-44d16b575f03"
      },
      "execution_count": 22,
      "outputs": [
        {
          "output_type": "stream",
          "name": "stdout",
          "text": [
            "Hello, My Name is JC\n"
          ]
        }
      ]
    },
    {
      "cell_type": "code",
      "source": [
        "nombre is None"
      ],
      "metadata": {
        "colab": {
          "base_uri": "https://localhost:8080/"
        },
        "id": "Gq7Kkyjogf1c",
        "outputId": "674cb08c-92c8-4c7c-dff0-4cae6b414543"
      },
      "execution_count": 24,
      "outputs": [
        {
          "output_type": "execute_result",
          "data": {
            "text/plain": [
              "True"
            ]
          },
          "metadata": {},
          "execution_count": 24
        }
      ]
    },
    {
      "cell_type": "code",
      "source": [
        "# Suppose Vesimir's weight a week ago\n",
        "print(\"Vesimir's Weight a Week Ago: \", vesimir.weight)\n",
        "\n",
        "# Let's change weight value\n",
        "vesimir.weight = 100\n",
        "print(\"Current Vesimir's Weight: \", vesimir.weight)"
      ],
      "metadata": {
        "colab": {
          "base_uri": "https://localhost:8080/"
        },
        "id": "RZKmTZZbmsOe",
        "outputId": "93223e89-8c00-4709-e392-1a9cd24e614c"
      },
      "execution_count": 34,
      "outputs": [
        {
          "output_type": "stream",
          "name": "stdout",
          "text": [
            "Vesimir's Weight a Week Ago:  90\n",
            "Current Vesimir's Weight:  100\n"
          ]
        }
      ]
    },
    {
      "cell_type": "code",
      "source": [
        "vesimir.eyes_color = 'blue'\n",
        "print(\"Current Vesimir's eyes color: \", vesimir.eyes_color)"
      ],
      "metadata": {
        "colab": {
          "base_uri": "https://localhost:8080/"
        },
        "id": "JN4xtvxem0Tz",
        "outputId": "70adf3f9-1e2b-4dc4-8279-f8c20bcaab73"
      },
      "execution_count": 36,
      "outputs": [
        {
          "output_type": "stream",
          "name": "stdout",
          "text": [
            "Current Vesimir's eyes color:  blue\n"
          ]
        }
      ]
    },
    {
      "cell_type": "code",
      "source": [
        "# print(\"Current Vesimir's eyes color: \", vesimir)"
      ],
      "metadata": {
        "id": "RYCTLS94m5mm"
      },
      "execution_count": 41,
      "outputs": []
    },
    {
      "cell_type": "code",
      "source": [
        "class GameCharacter:\n",
        "    \n",
        "    # Here we allow only certain attributes to be created\n",
        "    __slots__ = ('name', 'hair_color', 'height')\n",
        "    \n",
        "    # Constructor \n",
        "    def __init__(self, name, hair_color, height):\n",
        "        self.name = name\n",
        "        self.hair_color = hair_color\n",
        "        self.height = height   \n",
        "           \n",
        "# Let's call allowed attribute\n",
        "geralt = GameCharacter(name = 'Geralt', hair_color = 'White', height = 180)\n",
        "geralt.hair_color"
      ],
      "metadata": {
        "colab": {
          "base_uri": "https://localhost:8080/",
          "height": 35
        },
        "id": "gVaNk-JtoABH",
        "outputId": "c8dd95fd-7492-478f-acbb-27e6e78228c2"
      },
      "execution_count": 42,
      "outputs": [
        {
          "output_type": "execute_result",
          "data": {
            "application/vnd.google.colaboratory.intrinsic+json": {
              "type": "string"
            },
            "text/plain": [
              "'White'"
            ]
          },
          "metadata": {},
          "execution_count": 42
        }
      ]
    },
    {
      "cell_type": "code",
      "source": [
        "geralt.eyes_color = 'blue'\n",
        "print(\"Current Vesimir's eyes color: \", geralt.eyes_color)"
      ],
      "metadata": {
        "colab": {
          "base_uri": "https://localhost:8080/",
          "height": 183
        },
        "id": "Neb7ofVFoAW3",
        "outputId": "a9617769-2289-4a83-d8f8-b51e272b6f4c"
      },
      "execution_count": 43,
      "outputs": [
        {
          "output_type": "error",
          "ename": "AttributeError",
          "evalue": "ignored",
          "traceback": [
            "\u001b[0;31m---------------------------------------------------------------------------\u001b[0m",
            "\u001b[0;31mAttributeError\u001b[0m                            Traceback (most recent call last)",
            "\u001b[0;32m<ipython-input-43-ef6c7c8c1e58>\u001b[0m in \u001b[0;36m<module>\u001b[0;34m()\u001b[0m\n\u001b[0;32m----> 1\u001b[0;31m \u001b[0mgeralt\u001b[0m\u001b[0;34m.\u001b[0m\u001b[0meyes_color\u001b[0m \u001b[0;34m=\u001b[0m \u001b[0;34m'blue'\u001b[0m\u001b[0;34m\u001b[0m\u001b[0;34m\u001b[0m\u001b[0m\n\u001b[0m\u001b[1;32m      2\u001b[0m \u001b[0mprint\u001b[0m\u001b[0;34m(\u001b[0m\u001b[0;34m\"Current Vesimir's eyes color: \"\u001b[0m\u001b[0;34m,\u001b[0m \u001b[0mgeralt\u001b[0m\u001b[0;34m.\u001b[0m\u001b[0meyes_color\u001b[0m\u001b[0;34m)\u001b[0m\u001b[0;34m\u001b[0m\u001b[0;34m\u001b[0m\u001b[0m\n",
            "\u001b[0;31mAttributeError\u001b[0m: 'GameCharacter' object has no attribute 'eyes_color'"
          ]
        }
      ]
    },
    {
      "cell_type": "code",
      "source": [
        "# Again define the main GameCharacter Class (Parental Class)\n",
        "class GameCharacter:\n",
        "    \n",
        "    # Define the constructor\n",
        "    def __init__(self, name, hair_color, height):\n",
        "        self.name = name\n",
        "        self.hair_color = hair_color\n",
        "        self.height = height\n",
        "        \n",
        "    # Define 2 main methods for greeting and saying good bye  \n",
        "    def greeting(self):\n",
        "        return f'I am glad to see you, my name is {self.name}'\n",
        "        \n",
        "    def farewell(self):\n",
        "        return 'Farewell'\n",
        "\n",
        "# Define Witcher Class (child class)\n",
        "# Let's create a method signs_ability that prints which signs the Witcher has\n",
        "class Witcher(GameCharacter):\n",
        "    \n",
        "    # No need for constructor because it is being inherited from the parental class.\n",
        "    # Define a unique method. Only the witchers have sign abilities\n",
        "    def signs_ability(self):\n",
        "        signs = ['Axii','Qven','Ignii','Aard','Yrden']\n",
        "        return signs\n",
        "\n",
        "# Create a new object \n",
        "geralt = Witcher(name = 'Geralt', hair_color = 'White', height = 180)\n",
        "\n",
        "# Now Geralt belongs to Witcher Class as well as GameCharacter class\n",
        "# Let's get info about signs\n",
        "print(geralt.signs_ability())\n",
        "\n",
        "# Accessing other attributes from the parental class \n",
        "print(\"Geralt's Name: \", geralt.name)\n",
        "print(geralt.greeting())"
      ],
      "metadata": {
        "colab": {
          "base_uri": "https://localhost:8080/"
        },
        "id": "G8lmR2S4oQ9H",
        "outputId": "9a3a6239-c28d-4d51-e9b3-1bcdf6faf1e7"
      },
      "execution_count": 46,
      "outputs": [
        {
          "output_type": "stream",
          "name": "stdout",
          "text": [
            "['Axii', 'Qven', 'Ignii', 'Aard', 'Yrden']\n",
            "Geralt's Name:  Geralt\n",
            "I am glad to see you, my name is Geralt\n"
          ]
        }
      ]
    },
    {
      "cell_type": "code",
      "source": [
        ""
      ],
      "metadata": {
        "id": "FELA1UbMo4G-"
      },
      "execution_count": null,
      "outputs": []
    }
  ]
}