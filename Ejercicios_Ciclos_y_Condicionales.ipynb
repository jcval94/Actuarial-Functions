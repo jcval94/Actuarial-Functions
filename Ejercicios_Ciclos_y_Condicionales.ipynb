{
  "nbformat": 4,
  "nbformat_minor": 0,
  "metadata": {
    "colab": {
      "name": "Ejercicios Ciclos y Condicionales.ipynb",
      "provenance": [],
      "collapsed_sections": [],
      "toc_visible": true,
      "authorship_tag": "ABX9TyO99CO60JyHSM+8lpDWl2Xn",
      "include_colab_link": true
    },
    "kernelspec": {
      "name": "python3",
      "display_name": "Python 3"
    },
    "language_info": {
      "name": "python"
    }
  },
  "cells": [
    {
      "cell_type": "markdown",
      "metadata": {
        "id": "view-in-github",
        "colab_type": "text"
      },
      "source": [
        "<a href=\"https://colab.research.google.com/github/jcval94/Actuarial-Functions/blob/master/Ejercicios_Ciclos_y_Condicionales.ipynb\" target=\"_parent\"><img src=\"https://colab.research.google.com/assets/colab-badge.svg\" alt=\"Open In Colab\"/></a>"
      ]
    },
    {
      "cell_type": "code",
      "execution_count": null,
      "metadata": {
        "colab": {
          "base_uri": "https://localhost:8080/"
        },
        "id": "Ht35uCthQmab",
        "outputId": "0099ccfc-0095-4e49-f1bf-a07fec08e03b"
      },
      "outputs": [
        {
          "output_type": "execute_result",
          "data": {
            "text/plain": [
              "True"
            ]
          },
          "metadata": {},
          "execution_count": 2
        }
      ],
      "source": [
        "'a'<'b'"
      ]
    },
    {
      "cell_type": "code",
      "source": [
        "type('你好') is str"
      ],
      "metadata": {
        "colab": {
          "base_uri": "https://localhost:8080/"
        },
        "id": "tFaUZ6sBSEVn",
        "outputId": "2afd1a52-896a-4ffb-f0f0-3589622aba0c"
      },
      "execution_count": null,
      "outputs": [
        {
          "output_type": "execute_result",
          "data": {
            "text/plain": [
              "True"
            ]
          },
          "metadata": {},
          "execution_count": 6
        }
      ]
    },
    {
      "cell_type": "code",
      "source": [
        "1 in [1,2,3,5]"
      ],
      "metadata": {
        "colab": {
          "base_uri": "https://localhost:8080/"
        },
        "id": "0-nLsni0SrFb",
        "outputId": "a065a221-6f9f-48c2-c4bc-d1d0e24ee3fb"
      },
      "execution_count": null,
      "outputs": [
        {
          "output_type": "execute_result",
          "data": {
            "text/plain": [
              "True"
            ]
          },
          "metadata": {},
          "execution_count": 7
        }
      ]
    },
    {
      "cell_type": "code",
      "source": [
        "any([True,True, False])"
      ],
      "metadata": {
        "colab": {
          "base_uri": "https://localhost:8080/"
        },
        "id": "2XiktSM7UusO",
        "outputId": "df16bdae-2dc1-49db-f254-0d07f5787f1b"
      },
      "execution_count": null,
      "outputs": [
        {
          "output_type": "execute_result",
          "data": {
            "text/plain": [
              "True"
            ]
          },
          "metadata": {},
          "execution_count": 8
        }
      ]
    },
    {
      "cell_type": "code",
      "source": [
        "all([True,True, False])\n",
        "any([True,True, False])"
      ],
      "metadata": {
        "colab": {
          "base_uri": "https://localhost:8080/"
        },
        "id": "07LK9Z91UygO",
        "outputId": "2048523a-43ae-4234-ba27-bbc7f0c11feb"
      },
      "execution_count": null,
      "outputs": [
        {
          "output_type": "execute_result",
          "data": {
            "text/plain": [
              "False"
            ]
          },
          "metadata": {},
          "execution_count": 9
        }
      ]
    },
    {
      "cell_type": "code",
      "source": [
        "print(0+0,False or False)\n",
        "print(1+0,True or False)\n",
        "print(0+1,False or True)\n",
        "print(1+1,True or True)"
      ],
      "metadata": {
        "colab": {
          "base_uri": "https://localhost:8080/"
        },
        "id": "AlnPA447gECN",
        "outputId": "b57fc25c-978b-4acc-df2e-00579280135f"
      },
      "execution_count": null,
      "outputs": [
        {
          "output_type": "stream",
          "name": "stdout",
          "text": [
            "0 False\n",
            "1 True\n",
            "1 True\n",
            "2 True\n"
          ]
        }
      ]
    },
    {
      "cell_type": "code",
      "source": [
        "print(0*0,False and False)\n",
        "print(1*0,True and False)\n",
        "print(0*1,False and True)\n",
        "print(1*1,True and True)"
      ],
      "metadata": {
        "colab": {
          "base_uri": "https://localhost:8080/"
        },
        "id": "-71DvSo9gSS_",
        "outputId": "7b514642-a71c-41da-c399-537a993a4ed0"
      },
      "execution_count": null,
      "outputs": [
        {
          "output_type": "stream",
          "name": "stdout",
          "text": [
            "0 False\n",
            "0 False\n",
            "0 False\n",
            "1 True\n"
          ]
        }
      ]
    },
    {
      "cell_type": "code",
      "source": [
        "pokemons = ['Pikachu', 'Squirtle','Charmander']\n",
        "for x in pokemons:\n",
        "    print(x)"
      ],
      "metadata": {
        "colab": {
          "base_uri": "https://localhost:8080/"
        },
        "id": "DQYwRuwahgTL",
        "outputId": "1fe226ae-2e71-40af-9cfd-cfe582b7f94b"
      },
      "execution_count": null,
      "outputs": [
        {
          "output_type": "stream",
          "name": "stdout",
          "text": [
            "Pikachu\n",
            "Squirtle\n",
            "Charmander\n"
          ]
        }
      ]
    },
    {
      "cell_type": "code",
      "source": [
        "for i in range(1,6):\n",
        "    print(i)"
      ],
      "metadata": {
        "colab": {
          "base_uri": "https://localhost:8080/"
        },
        "id": "lTsy6Vplk1gq",
        "outputId": "350ae905-b598-4293-8e55-436898e81a79"
      },
      "execution_count": null,
      "outputs": [
        {
          "output_type": "stream",
          "name": "stdout",
          "text": [
            "1\n",
            "3\n",
            "5\n"
          ]
        }
      ]
    },
    {
      "cell_type": "code",
      "source": [
        "list(range(7))"
      ],
      "metadata": {
        "colab": {
          "base_uri": "https://localhost:8080/"
        },
        "id": "qLT3bUzbmOB-",
        "outputId": "9bd16e48-cb09-4e4f-c7b4-5e0af9207c6d"
      },
      "execution_count": null,
      "outputs": [
        {
          "output_type": "execute_result",
          "data": {
            "text/plain": [
              "[0, 1, 2, 3, 4, 5, 6]"
            ]
          },
          "metadata": {},
          "execution_count": 31
        }
      ]
    },
    {
      "cell_type": "code",
      "source": [
        "len(list(range(7)))"
      ],
      "metadata": {
        "colab": {
          "base_uri": "https://localhost:8080/"
        },
        "id": "ujNLpJvSmzTx",
        "outputId": "b1e6b915-2418-48b7-be3b-72aa006cb55a"
      },
      "execution_count": null,
      "outputs": [
        {
          "output_type": "execute_result",
          "data": {
            "text/plain": [
              "7"
            ]
          },
          "metadata": {},
          "execution_count": 32
        }
      ]
    },
    {
      "cell_type": "code",
      "source": [
        "lista_num = list(range(1,6,2))\n",
        "lista_num"
      ],
      "metadata": {
        "colab": {
          "base_uri": "https://localhost:8080/"
        },
        "id": "2mwxAcsUlkBU",
        "outputId": "2b890e6c-2e08-4c5a-9ecf-8647b3bb0933"
      },
      "execution_count": null,
      "outputs": [
        {
          "output_type": "execute_result",
          "data": {
            "text/plain": [
              "[1, 3, 5]"
            ]
          },
          "metadata": {},
          "execution_count": 27
        }
      ]
    },
    {
      "cell_type": "code",
      "source": [
        "len(lista_num)"
      ],
      "metadata": {
        "colab": {
          "base_uri": "https://localhost:8080/"
        },
        "id": "dRDVbCh5m5g9",
        "outputId": "8defa841-fc62-4acf-d048-7f09911121cd"
      },
      "execution_count": null,
      "outputs": [
        {
          "output_type": "execute_result",
          "data": {
            "text/plain": [
              "3"
            ]
          },
          "metadata": {},
          "execution_count": 33
        }
      ]
    },
    {
      "cell_type": "code",
      "source": [
        "for lista in lista_num:\n",
        "    print(lista)"
      ],
      "metadata": {
        "colab": {
          "base_uri": "https://localhost:8080/"
        },
        "id": "08jd0N_kltNx",
        "outputId": "3ee4d631-ae98-4db6-d4d0-f4a82910da7b"
      },
      "execution_count": null,
      "outputs": [
        {
          "output_type": "stream",
          "name": "stdout",
          "text": [
            "1\n",
            "3\n",
            "5\n"
          ]
        }
      ]
    },
    {
      "cell_type": "code",
      "source": [
        "count = 1\n",
        "while count < 1024:\n",
        "    print(count)\n",
        "    count *= 2 # count = count * 2 "
      ],
      "metadata": {
        "colab": {
          "base_uri": "https://localhost:8080/"
        },
        "id": "usZ_J7dsnGXg",
        "outputId": "5a2b4ffa-a9ed-4f90-fb7d-4aeb22042fb1"
      },
      "execution_count": null,
      "outputs": [
        {
          "output_type": "stream",
          "name": "stdout",
          "text": [
            "1\n",
            "2\n",
            "4\n",
            "8\n",
            "16\n",
            "32\n",
            "64\n",
            "128\n",
            "256\n",
            "512\n"
          ]
        }
      ]
    },
    {
      "cell_type": "code",
      "source": [
        "count < 5"
      ],
      "metadata": {
        "colab": {
          "base_uri": "https://localhost:8080/"
        },
        "id": "YGEGEBZ-n1VK",
        "outputId": "f9b0d209-2283-4b06-ca4d-60966ee461ab"
      },
      "execution_count": null,
      "outputs": [
        {
          "output_type": "execute_result",
          "data": {
            "text/plain": [
              "False"
            ]
          },
          "metadata": {},
          "execution_count": 38
        }
      ]
    },
    {
      "cell_type": "code",
      "source": [
        "count = 0\n",
        "while count < 5:\n",
        "    print(count)\n",
        "    count = count + 1 \n",
        "    if count == 3:\n",
        "      continue"
      ],
      "metadata": {
        "colab": {
          "base_uri": "https://localhost:8080/"
        },
        "id": "bmpmkf_NnUVS",
        "outputId": "ff54dafd-5732-4e5c-e539-c67c0ac356cc"
      },
      "execution_count": null,
      "outputs": [
        {
          "output_type": "stream",
          "name": "stdout",
          "text": [
            "0\n",
            "1\n",
            "2\n",
            "3\n",
            "4\n"
          ]
        }
      ]
    },
    {
      "cell_type": "code",
      "source": [
        "1893%2 == 0"
      ],
      "metadata": {
        "colab": {
          "base_uri": "https://localhost:8080/"
        },
        "id": "fB7m0adUptuI",
        "outputId": "21d34a21-8478-4363-d6e4-0878be708b10"
      },
      "execution_count": null,
      "outputs": [
        {
          "output_type": "execute_result",
          "data": {
            "text/plain": [
              "False"
            ]
          },
          "metadata": {},
          "execution_count": 52
        }
      ]
    },
    {
      "cell_type": "code",
      "source": [
        "for x in range(10):\n",
        "  # Chequéa si x es numero par\n",
        "  if x%2 == 1:\n",
        "    continue\n",
        "  #----------------------  \n",
        "  print(x)\n"
      ],
      "metadata": {
        "colab": {
          "base_uri": "https://localhost:8080/"
        },
        "id": "bA_Z3KWlpS9t",
        "outputId": "5d4c664d-bf4a-42b1-db48-cd079a3fd537"
      },
      "execution_count": null,
      "outputs": [
        {
          "output_type": "stream",
          "name": "stdout",
          "text": [
            "0\n",
            "2\n",
            "4\n",
            "6\n",
            "8\n"
          ]
        }
      ]
    },
    {
      "cell_type": "code",
      "source": [
        "count = 0\n",
        "while True:\n",
        "  print(count)\n",
        "  count += 1\n",
        "  if count == 5:\n",
        "    break"
      ],
      "metadata": {
        "colab": {
          "base_uri": "https://localhost:8080/"
        },
        "id": "kbPBloMzoXdc",
        "outputId": "b94a621f-6b33-438a-e3dc-6510ce7c65d9"
      },
      "execution_count": null,
      "outputs": [
        {
          "output_type": "stream",
          "name": "stdout",
          "text": [
            "0\n",
            "1\n",
            "2\n",
            "3\n",
            "4\n"
          ]
        }
      ]
    },
    {
      "cell_type": "code",
      "source": [
        "#Ejercicio tipo Google\n",
        "semilla = 1213\n",
        "\n",
        "for i in range(4):\n",
        "  print(semilla)\n",
        "  n1 = semilla**2\n",
        "  n1 = str(n1)\n",
        "\n",
        "  if len(n1)>4:\n",
        "    n1 = int(n1[:4])\n",
        "  else:\n",
        "    n1 = int(n1[:-2][1:])\n",
        "  semilla = n1\n",
        "  "
      ],
      "metadata": {
        "id": "oNGNPDJzonpg",
        "colab": {
          "base_uri": "https://localhost:8080/"
        },
        "outputId": "df422ba8-9427-48e5-ef81-5af387bd9b4d"
      },
      "execution_count": 1,
      "outputs": [
        {
          "output_type": "stream",
          "name": "stdout",
          "text": [
            "1213\n",
            "1471\n",
            "2163\n",
            "4678\n"
          ]
        }
      ]
    },
    {
      "cell_type": "code",
      "source": [
        "if len(n1)<8:\n",
        "  ..."
      ],
      "metadata": {
        "colab": {
          "base_uri": "https://localhost:8080/"
        },
        "id": "fC479CWtrdCk",
        "outputId": "4fe65226-b0b0-44b7-b394-6c076bc40cb2"
      },
      "execution_count": null,
      "outputs": [
        {
          "output_type": "execute_result",
          "data": {
            "text/plain": [
              "8903"
            ]
          },
          "metadata": {},
          "execution_count": 78
        }
      ]
    },
    {
      "cell_type": "code",
      "source": [
        "lista = list(range(10))\n",
        "lista"
      ],
      "metadata": {
        "colab": {
          "base_uri": "https://localhost:8080/"
        },
        "id": "e4fbAiNQnsJZ",
        "outputId": "775feb8a-49db-4563-e1a7-140d2cda9af8"
      },
      "execution_count": 3,
      "outputs": [
        {
          "output_type": "execute_result",
          "data": {
            "text/plain": [
              "[0, 1, 2, 3, 4, 5, 6, 7, 8, 9]"
            ]
          },
          "metadata": {},
          "execution_count": 3
        }
      ]
    },
    {
      "cell_type": "code",
      "source": [
        "for ex in [3,5.1,7,11,-4,8]:\n",
        "  # ex = 5.4\n",
        "  if ex in lista:\n",
        "    print('llamar')\n",
        "  elif ex >6:\n",
        "    print('Ex mayor que 6')\n",
        "  elif ex <5:\n",
        "    print('Ex menor que 5')\n",
        "  else:\n",
        "    print('Ex está entre 5 y 6')"
      ],
      "metadata": {
        "colab": {
          "base_uri": "https://localhost:8080/"
        },
        "id": "CkH29XqdxTmk",
        "outputId": "c03ce072-dc56-4c4f-fec3-46d368889437"
      },
      "execution_count": 10,
      "outputs": [
        {
          "output_type": "stream",
          "name": "stdout",
          "text": [
            "llamar\n",
            "Ex está entre 5 y 6\n",
            "llamar\n",
            "Ex mayor que 6\n",
            "Ex menor que 5\n",
            "llamar\n"
          ]
        }
      ]
    },
    {
      "cell_type": "markdown",
      "source": [
        "# Solución"
      ],
      "metadata": {
        "id": "2gqdJb45n2re"
      }
    },
    {
      "cell_type": "code",
      "source": [
        "#Ejercicio tipo Google\n",
        "semilla = 1213\n",
        "\n",
        "for i in range(4):\n",
        "  print(semilla)\n",
        "  n1 = semilla**2\n",
        "  n1 = str(n1)\n",
        "  while len(n1) < 8:\n",
        "    n1='0'+n1\n",
        "  if len(n1)>4:\n",
        "    n1 = int(n1[:4])\n",
        "  else:\n",
        "    n1 = int(n1[:-2][1:])\n",
        "  semilla = n1\n",
        "  "
      ],
      "metadata": {
        "id": "CEpImHngzIOO"
      },
      "execution_count": 11,
      "outputs": []
    },
    {
      "cell_type": "code",
      "source": [
        "semilla = 2^1234\n",
        "\n",
        "for x in range(3):\n",
        "  print(semilla)\n",
        "  n1 = semilla**2\n",
        "  n1 = str(n1)\n",
        "  while len(n1) < 8:\n",
        "    n1='0'+n1\n",
        "  print(n1)\n",
        "  n1 = n1[2:][:-2]\n",
        "\n",
        "  n1 = int(n1)\n",
        "\n",
        "  semilla = n1"
      ],
      "metadata": {
        "colab": {
          "base_uri": "https://localhost:8080/"
        },
        "id": "grgMxfHAz2iQ",
        "outputId": "9980244f-23d7-4401-ef1c-61005a562faf"
      },
      "execution_count": 50,
      "outputs": [
        {
          "output_type": "stream",
          "name": "stdout",
          "text": [
            "1232\n",
            "01517824\n",
            "5178\n",
            "26811684\n",
            "8116\n",
            "65869456\n"
          ]
        }
      ]
    },
    {
      "cell_type": "code",
      "source": [
        "n1"
      ],
      "metadata": {
        "colab": {
          "base_uri": "https://localhost:8080/"
        },
        "id": "Re64pxrNz9Fz",
        "outputId": "7f1c1cf6-50f5-41a5-bfa1-b3ba443cb77a"
      },
      "execution_count": 43,
      "outputs": [
        {
          "output_type": "execute_result",
          "data": {
            "text/plain": [
              "5071"
            ]
          },
          "metadata": {},
          "execution_count": 43
        }
      ]
    },
    {
      "cell_type": "code",
      "source": [
        "semilla = 1231\n",
        "\n",
        "for x in range(3):\n",
        "  print(semilla)\n",
        "  n1 = semilla**2\n",
        "  n1 = str(n1)\n",
        "\n",
        "  while len(n1) < 8:\n",
        "    n1='0'+n1\n",
        "\n",
        "  print(n1)\n",
        "  n1 = n1[2:][:-2]\n",
        "\n",
        "  n1 = int(n1)\n",
        "\n",
        "  semilla = n1"
      ],
      "metadata": {
        "colab": {
          "base_uri": "https://localhost:8080/"
        },
        "outputId": "f53f6a3f-95cd-4637-9bbf-00d195114af2",
        "id": "Jj-aiFIV3KWU"
      },
      "execution_count": 54,
      "outputs": [
        {
          "output_type": "stream",
          "name": "stdout",
          "text": [
            "12318\n",
            "151733124\n",
            "17331\n",
            "300363561\n",
            "3635\n",
            "13213225\n"
          ]
        }
      ]
    },
    {
      "cell_type": "code",
      "source": [
        "x"
      ],
      "metadata": {
        "colab": {
          "base_uri": "https://localhost:8080/"
        },
        "id": "LXQLGOIJ0Tpr",
        "outputId": "cb9bf27e-2a78-478e-8ba6-850562cbdfea"
      },
      "execution_count": 52,
      "outputs": [
        {
          "output_type": "execute_result",
          "data": {
            "text/plain": [
              "2"
            ]
          },
          "metadata": {},
          "execution_count": 52
        }
      ]
    },
    {
      "cell_type": "code",
      "source": [
        "n1"
      ],
      "metadata": {
        "colab": {
          "base_uri": "https://localhost:8080/",
          "height": 35
        },
        "id": "LB9nDGkr0npz",
        "outputId": "ab6f88da-5466-4a62-992c-5cc9e452d515"
      },
      "execution_count": 27,
      "outputs": [
        {
          "output_type": "execute_result",
          "data": {
            "application/vnd.google.colaboratory.intrinsic+json": {
              "type": "string"
            },
            "text/plain": [
              "'00011000'"
            ]
          },
          "metadata": {},
          "execution_count": 27
        }
      ]
    }
  ]
}