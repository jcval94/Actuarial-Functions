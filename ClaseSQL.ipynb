{
  "nbformat": 4,
  "nbformat_minor": 0,
  "metadata": {
    "colab": {
      "name": "ClaseSQL.ipynb",
      "provenance": [],
      "authorship_tag": "ABX9TyNu1e88ZkHRsLBBOUaXctG/",
      "include_colab_link": true
    },
    "kernelspec": {
      "name": "python3",
      "display_name": "Python 3"
    },
    "language_info": {
      "name": "python"
    }
  },
  "cells": [
    {
      "cell_type": "markdown",
      "metadata": {
        "id": "view-in-github",
        "colab_type": "text"
      },
      "source": [
        "<a href=\"https://colab.research.google.com/github/jcval94/Actuarial-Functions/blob/master/ClaseSQL.ipynb\" target=\"_parent\"><img src=\"https://colab.research.google.com/assets/colab-badge.svg\" alt=\"Open In Colab\"/></a>"
      ]
    },
    {
      "cell_type": "code",
      "execution_count": null,
      "metadata": {
        "id": "_Td3OWFwYpva"
      },
      "outputs": [],
      "source": [
        "create database ejemplo2;\n",
        "\tuse ejemplo2;\n",
        "\n",
        "\t\tCREATE TABLE User2 (\n",
        "\t\t\t  email varchar(55), \n",
        "\t\t\t  first_name varchar(45), \n",
        "\t\t\t  last_name varchar(45), \n",
        "\t\t\t  address varchar(145), \n",
        "\t\t\t  age int, \n",
        "\t\t\t  PRIMARY KEY (email)\n",
        "\t\t\t);\n",
        "            \n",
        "\t\t\n",
        "\t\tSelect * from User2;\n",
        "        INSERT INTO User2 VALUES ('bob@example.com', 'Bob', 'Codd', '123 Fantasy lane, Fantasy City', 21);\n",
        "\t\tINSERT INTO User2 VALUES ('tom@web.com', 'Tom', 'Fake', '456 Fantasy lane, Fantasy City', 39);\n",
        "\t\tSELECT * FROM user2 WHERE age = 39;\n",
        "        \n",
        "        Select * from User2;\n",
        "        \n",
        "        SELECT email, age FROM user2 ORDER BY age DESC;\n",
        "        \n",
        "        ALTER TABLE user2 ADD COLUMN gender varchar(1);\n",
        "        \n",
        "        UPDATE user2 SET gender='M' WHERE user2.email='bob@example.com';\n",
        "        UPDATE user2 SET gender='M' WHERE user2.email<>'bob@example.com';\n",
        "        UPDATE user2 SET gender='F' WHERE NOT user2.email='bob@example.com';\n",
        "        \n",
        "        SELECT email, gender FROM user2;\n",
        "        \n",
        "        SELECT email, gender, age FROM user2 ORDER BY age DESC;\n",
        "        \n",
        "        INSERT INTO user2 VALUES('shelly@www.com', 'Shelly', 'Milar', '123, Ocean View Lane', 39, 'F');"
      ]
    }
  ]
}